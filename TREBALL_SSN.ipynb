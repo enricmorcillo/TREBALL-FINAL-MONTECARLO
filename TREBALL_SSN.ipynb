{
  "cells": [
    {
      "cell_type": "markdown",
      "metadata": {
        "id": "AwtZzQLVOp96"
      },
      "source": [
        "SIMULACIÓ DEL POTENCIAL DE LENNARD-JONES"
      ]
    },
    {
      "cell_type": "markdown",
      "metadata": {
        "id": "AqzeEaYaOwaU"
      },
      "source": [
        "Comencem important les llibreries necessàries"
      ]
    },
    {
      "cell_type": "code",
      "execution_count": 1,
      "metadata": {
        "id": "WXoPZ_mXOg0E"
      },
      "outputs": [],
      "source": [
        "import numpy as np\n",
        "import random\n",
        "import csv\n",
        "import matplotlib.pyplot as plt\n",
        "import pandas as pd"
      ]
    },
    {
      "cell_type": "markdown",
      "source": [
        "Determinem els paràmetres de Lennard-Jonnes i del Sistema"
      ],
      "metadata": {
        "id": "0a9spauuMB7-"
      }
    },
    {
      "cell_type": "code",
      "execution_count": 2,
      "metadata": {
        "id": "7qkanJB4O7wr"
      },
      "outputs": [],
      "source": [
        "#Lennard-Jones\n",
        "epsilon = 1.0\n",
        "sigma = 1.0\n",
        "rcut = 2.5 * sigma\n",
        "\n",
        "# Sistema\n",
        "N_total = 200\n",
        "V_total = 1000.0\n",
        "T = 1.2\n",
        "beta = 1.0 / T"
      ]
    },
    {
      "cell_type": "markdown",
      "source": [
        "Definim la caixa"
      ],
      "metadata": {
        "id": "7b8ns1svMWzy"
      }
    },
    {
      "cell_type": "code",
      "source": [
        "\n",
        "box = [\n",
        "    {'N': N_total // 2, 'V': V_total / 2, 'positions': None},\n",
        "    {'N': N_total - N_total // 2, 'V': V_total / 2, 'positions': None}\n",
        "]\n"
      ],
      "metadata": {
        "id": "VWzjD0sv0dQy"
      },
      "execution_count": 3,
      "outputs": []
    },
    {
      "cell_type": "markdown",
      "source": [
        "Generem posicions aleatòries dins la caixa"
      ],
      "metadata": {
        "id": "iedf5vAjM7L1"
      }
    },
    {
      "cell_type": "code",
      "execution_count": 4,
      "metadata": {
        "id": "ISlVIoSxPAIU"
      },
      "outputs": [],
      "source": [
        "def initialize_positions(box):\n",
        "    N = box['N']\n",
        "    V = box['V']\n",
        "    L = V ** (1/2)\n",
        "    positions = np.random.rand(N, 2) * L\n",
        "    return positions\n"
      ]
    },
    {
      "cell_type": "code",
      "execution_count": 5,
      "metadata": {
        "id": "3dGl28rUPC1R"
      },
      "outputs": [],
      "source": [
        "def minimum_image(r, box_length):\n",
        "    return r - box_length * np.round(r / box_length)"
      ]
    },
    {
      "cell_type": "markdown",
      "source": [
        "Definim l'energia Potencial de Lennard-Jonnes entre dues partícules per a una certa distància. Sempre que r<rcut."
      ],
      "metadata": {
        "id": "EMQ0pulsPDLR"
      }
    },
    {
      "cell_type": "code",
      "execution_count": 6,
      "metadata": {
        "id": "tUzdyJrUPFIq"
      },
      "outputs": [],
      "source": [
        "def lj_potential(r2):\n",
        "    if r2 < rcut**2 and r2 > 1e-12:\n",
        "        inv_r6 = (sigma ** 2 / r2) ** 3\n",
        "        return 4 * epsilon * (inv_r6**2 - inv_r6)\n",
        "    return 0.0\n"
      ]
    },
    {
      "cell_type": "code",
      "execution_count": 7,
      "metadata": {
        "id": "9w-QcDwDPHxa"
      },
      "outputs": [],
      "source": [
        "def total_energy(positions, box_length):\n",
        "    E = 0.0\n",
        "    N = len(positions)\n",
        "    for i in range(N - 1):\n",
        "        for j in range(i + 1, N):\n",
        "            rij = minimum_image(positions[i] - positions[j], box_length)\n",
        "            r2 = np.dot(rij, rij)\n",
        "            E += lj_potential(r2)\n",
        "    return E\n"
      ]
    },
    {
      "cell_type": "code",
      "execution_count": 8,
      "metadata": {
        "id": "H-5IdSmYPKeW"
      },
      "outputs": [],
      "source": [
        "def move_displacement(box, delta=0.1):\n",
        "    if box['N'] == 0:\n",
        "        return\n",
        "    idx = np.random.randint(box['N'])\n",
        "    old_pos = np.copy(box['positions'][idx])\n",
        "    L = box['V']**(1/2)\n",
        "\n",
        "    old_energy = total_energy(box['positions'], L)\n",
        "\n",
        "    box['positions'][idx] += (np.random.rand(2) - 0.5) * delta\n",
        "    box['positions'][idx] %= L\n",
        "\n",
        "    new_energy = total_energy(box['positions'], L)\n",
        "\n",
        "    dE = new_energy - old_energy\n",
        "\n",
        "    if dE > 0:\n",
        "     if np.random.rand() > np.exp(-beta * dE):\n",
        "        box['positions'][idx] = old_pos"
      ]
    },
    {
      "cell_type": "code",
      "execution_count": 9,
      "metadata": {
        "id": "oson6DAYPREw"
      },
      "outputs": [],
      "source": [
        "def move_volume_exchange(box1, box2, delta_V=10.0):\n",
        "    V1_old, V2_old = box1['V'], box2['V']\n",
        "    lnV = np.log(V1_old / V2_old)\n",
        "    dlnV = (np.random.rand() - 0.5) * delta_V\n",
        "    lnV_new = lnV + dlnV\n",
        "\n",
        "    V1_new = V_total * np.exp(lnV_new) / (1 + np.exp(lnV_new))\n",
        "    V2_new = V_total - V1_new\n",
        "\n",
        "    scale1 = (V1_new / V1_old) ** (1/2)\n",
        "    scale2 = (V2_new / V2_old) ** (1/2)\n",
        "\n",
        "    box1_pos_scaled = box1['positions'] * scale1\n",
        "    box2_pos_scaled = box2['positions'] * scale2\n",
        "\n",
        "    E1_new = total_energy(box1_pos_scaled, V1_new**(1/2))\n",
        "    E2_new = total_energy(box2_pos_scaled, V2_new**(1/2))\n",
        "    E1_old = total_energy(box1['positions'], V1_old**(1/2))\n",
        "    E2_old = total_energy(box2['positions'], V2_old**(1/2))\n",
        "\n",
        "    dE2 = E1_new + E2_new - (E1_old + E2_old)\n",
        "\n",
        "    lnJ = (box1['N'] * np.log(V1_new / V1_old) +\n",
        "           box2['N'] * np.log(V2_new / V2_old))\n",
        "    if dE2 < 0:\n",
        "      box1['V'], box2['V'] = V1_new, V2_new\n",
        "      box1['positions'], box2['positions'] = box1_pos_scaled, box2_pos_scaled\n",
        "    else:\n",
        "      if np.random.rand() < np.exp(-beta * dE2 + lnJ):\n",
        "        box1['V'], box2['V'] = V1_new, V2_new\n",
        "        box1['positions'], box2['positions'] = box1_pos_scaled, box2_pos_scaled\n",
        "\n",
        ""
      ]
    },
    {
      "cell_type": "code",
      "execution_count": 10,
      "metadata": {
        "id": "l3GDUUluPV7N"
      },
      "outputs": [],
      "source": [
        "def move_particle_swap(box1, box2):\n",
        "    if box1['N'] == 0:\n",
        "        return\n",
        "\n",
        "    idx = np.random.randint(box1['N'])\n",
        "    particle = box1['positions'][idx]\n",
        "\n",
        "    pos1 = np.delete(box1['positions'], idx, axis=0)\n",
        "    N1_new = box1['N'] - 1\n",
        "    L1 = box1['V'] ** (1/2)\n",
        "    E1_old = total_energy(box1['positions'], L1)\n",
        "    E1_new = total_energy(pos1, L1)\n",
        "\n",
        "    L2 = box2['V'] ** (1/2)\n",
        "    new_particle = np.random.rand(2) * L2\n",
        "    pos2 = np.vstack([box2['positions'], new_particle])\n",
        "    N2_new = box2['N'] + 1\n",
        "    E2_old = total_energy(box2['positions'], L2)\n",
        "    E2_new = total_energy(pos2, L2)\n",
        "\n",
        "    dE3 = (E1_new + E2_new) - (E1_old + E2_old)\n",
        "\n",
        "    if dE3 < 0:\n",
        "      box1['N'], box2['N'] = N1_new, N2_new\n",
        "      box1['positions'], box2['positions'] = pos1, pos2\n",
        "    else:\n",
        "      acc_ratio = (box1['N'] / (box2['N'] + 1)) * \\\n",
        "                  (box2['V'] / box1['V']) * \\\n",
        "                  np.exp(-beta * dE3)\n",
        "      if np.random.rand() < acc_ratio:\n",
        "        box1['N'], box2['N'] = N1_new, N2_new\n",
        "        box1['positions'], box2['positions'] = pos1, pos2\n",
        "\n"
      ]
    },
    {
      "cell_type": "code",
      "execution_count": 11,
      "metadata": {
        "id": "dzHF5_EoPZKw"
      },
      "outputs": [],
      "source": [
        "def run_simulation(steps=1000, output_file=\"gibbs_output.csv\"):\n",
        "    for b in box:\n",
        "        b['positions'] = initialize_positions(b)\n",
        "\n",
        "    with open(output_file, \"w\", newline='') as csvfile:\n",
        "        writer = csv.writer(csvfile)\n",
        "        writer.writerow([\"step\", \"T\", \"rho1\", \"rho2\"])\n",
        "\n",
        "        for step in range(steps):\n",
        "            for _ in range(1):  # Prova més moviments per pas\n",
        "                move_displacement(box[0])\n",
        "                move_displacement(box[1])\n",
        "\n",
        "            for _ in range(3):  # Més intents de swap\n",
        "                move_particle_swap(box[0], box[1])\n",
        "                move_particle_swap(box[1], box[0])\n",
        "\n",
        "\n",
        "            for _ in range(2):  # Més intents de canvi de volum\n",
        "                move_volume_exchange(box[0], box[1])\n",
        "\n",
        "\n",
        "            if step % 100 == 0:\n",
        "                rho1 = box[0]['N'] / box[0]['V']\n",
        "                rho2 = box[1]['N'] / box[1]['V']\n",
        "                print(f\"Step {step}: N1={box[0]['N']}, N2={box[1]['N']}, rho1={rho1:.3f}, rho2={rho2:.3f}\")\n",
        "                writer.writerow([step, T, rho1, rho2])"
      ]
    },
    {
      "cell_type": "code",
      "execution_count": 12,
      "metadata": {
        "id": "cGtzTF1QPh5I"
      },
      "outputs": [],
      "source": [
        "def plot_density(filename=\"gibbs_output.csv\"):\n",
        "    data = pd.read_csv(filename)\n",
        "\n",
        "    plt.plot(data[\"step\"], data[\"rho1\"], label=\"Caixa 1 (líquid)\")\n",
        "    plt.plot(data[\"step\"], data[\"rho2\"], label=\"Caixa 2 (gas)\")\n",
        "    plt.xlabel(\"Pas de simulació\")\n",
        "    plt.ylabel(\"Densitat (ρ)\")\n",
        "    plt.title(\"Evolució de la densitat en el Gibbs Ensemble\")\n",
        "    plt.legend()\n",
        "    plt.grid(True)\n",
        "    plt.tight_layout()\n",
        "    plt.savefig(\"gibbs_density_plot.png\")\n",
        "    plt.show()"
      ]
    },
    {
      "cell_type": "code",
      "execution_count": 13,
      "metadata": {
        "colab": {
          "base_uri": "https://localhost:8080/",
          "height": 657
        },
        "id": "Vu0ZA9w7PjTA",
        "outputId": "d1392563-80bd-4d89-ecf4-db37ac4a088e"
      },
      "outputs": [
        {
          "output_type": "stream",
          "name": "stdout",
          "text": [
            "Step 0: N1=100, N2=100, rho1=0.178, rho2=0.228\n",
            "Step 100: N1=181, N2=19, rho1=0.204, rho2=0.169\n",
            "Step 200: N1=180, N2=20, rho1=0.198, rho2=0.217\n",
            "Step 300: N1=183, N2=17, rho1=0.208, rho2=0.141\n",
            "Step 400: N1=172, N2=28, rho1=0.195, rho2=0.241\n",
            "Step 500: N1=183, N2=17, rho1=0.202, rho2=0.180\n",
            "Step 600: N1=178, N2=22, rho1=0.195, rho2=0.253\n",
            "Step 700: N1=183, N2=17, rho1=0.203, rho2=0.175\n",
            "Step 800: N1=177, N2=23, rho1=0.196, rho2=0.236\n",
            "Step 900: N1=178, N2=22, rho1=0.202, rho2=0.183\n"
          ]
        },
        {
          "output_type": "display_data",
          "data": {
            "text/plain": [
              "<Figure size 640x480 with 1 Axes>"
            ],
            "image/png": "[encoded data removed]"
          },
          "metadata": {}
        }
      ],
      "source": [
        "# Executar simulació i generar gràfic\n",
        "run_simulation(steps=1000)\n",
        "plot_density()\n"
      ]
    }
  ],
  "metadata": {
    "colab": {
      "provenance": []
    },
    "kernelspec": {
      "display_name": "Python 3",
      "name": "python3"
    },
    "language_info": {
      "name": "python"
    }
  },
  "nbformat": 4,
  "nbformat_minor": 0
}